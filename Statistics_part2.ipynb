{
  "nbformat": 4,
  "nbformat_minor": 0,
  "metadata": {
    "colab": {
      "provenance": []
    },
    "kernelspec": {
      "name": "python3",
      "display_name": "Python 3"
    },
    "language_info": {
      "name": "python"
    }
  },
  "cells": [
    {
      "cell_type": "markdown",
      "source": [
        "#1. What is hypothesis testing in statistics?\n",
        "- Hypothesis testing in statistics is a method used to make decisions or inferences about a population based on a sample of data."
      ],
      "metadata": {
        "id": "KMEtCOXnhifV"
      }
    },
    {
      "cell_type": "markdown",
      "source": [
        "#2. What is the null hypothesis , and how does it differ from the alternative hypothesis?\n",
        "- The null hypothesis (H_0) and the alternative hypothesis (H_1 or H_a) are two competing statements in hypothesis testing:\n",
        "#1. Null Hypothesis(H_0):\n",
        "- It is the default or initial assumption.\n",
        "- It states that there is no effects , no difference , or no relationships.\n",
        "- The goal of hypothesis testing is often to try to disprove the null hypothesis.\n",
        "\n",
        "Example:\n",
        "- The drug has an effect :H_0:mu=0\n",
        "- A coin is fair : H_0: p=0.5\n",
        "- Two groups have the same average scores : H_0: mu_1 =mu_2\n",
        "\n",
        "#2.Alternative Hypothesis (H_1 or Ha):\n",
        "- This is what we want to prove.\n",
        "- It suggests that there is an effect, a difference, or a relationship.\n",
        "- If we reject H_0, we are supporting H_1.\n",
        "Examples:\n",
        "- The drug has an effect : H_1: mu-=0\n",
        "- The coin is biased : H_1:p-=0.5\n",
        "- One group scores higher than another :H_1:mu_1-=mu_2 or mu_1>mu_2."
      ],
      "metadata": {
        "id": "n5s8ogPzjCme"
      }
    },
    {
      "cell_type": "markdown",
      "source": [
        "#3.What is the significance level in hypothesis testing , and why is it important?\n",
        "- The significance level is a(alpha) is the probability of rejecting the null hypothesis when it is actually true - this is called a Type I error.\n",
        "# Importance:\n",
        "- Controls Error Risk\n",
        "- Affects confidence\n",
        "- Decision Boundary"
      ],
      "metadata": {
        "id": "B-T1_vKBjChk"
      }
    },
    {
      "cell_type": "markdown",
      "source": [
        "#4.What does a P- value represent in hypothesis testing?\n",
        "- In hypothesis testing, the p-value is a number that helps we decide whether to reject the null hypothesis (H_0).\n",
        "##Definition:\n",
        "The p-value is the probability of getting a result as extreme as, or more extreme than , we observed data assuming the null hypothesis is true.\n",
        "\n"
      ],
      "metadata": {
        "id": "6ZRovwhMjCcl"
      }
    },
    {
      "cell_type": "markdown",
      "source": [
        "#5.How do you interpret the P-value in hypothesis?\n",
        "- To interpret a p-value in a hypothesis test , follow this logic:\n",
        "#1.What the p-value represent:\n",
        "- The p-value is the probability of obtaining our observed results (or more extreme ones ) if the null hypothesis (H_0) is true.\n",
        "#2. Interpreting the p-value:\n",
        "- If p-value <= a(alpha)(e.g., 0.05):\n",
        "-- Reject the null hypothesis (H_0).\n",
        "-- our result is statistically significant.\n",
        "-- There is strong evidence in favor of the alternative hypothesis (H_1).       \n",
        "- If p-value >a(alpha):\n",
        "-- Do not reject the null hypothesis.\n",
        "-- Our result is not statistically significant.\n",
        "-- We don't have enough evidence to support the alternative hypothesis."
      ],
      "metadata": {
        "id": "Tc9GJ8B-jCW5"
      }
    },
    {
      "cell_type": "markdown",
      "source": [
        "#6. What are Type 1 and Type 2 errors in hypothesis testing?\n",
        "- In hypothesis testing , Type 1 and Type 2 errors are two kinds of mistakes we can make when deciding whether to reject the null hypothesis.\n",
        "#1. Type 1 Error (False Positive):\n",
        "- Definition: Rejecting the null hypothesis (H_0) when it is actually true.\n",
        "- WE conclude there is an effect when there actually isn't.\n",
        "- The probability of a Type 1 error is the significance level a(alpha) (commonly 0.05).\n",
        "Example:\n",
        " We test a drug that does'nt actually work, but our test says it does,- Type 1 error\n",
        " #2. Type 2 Error (False negative):\n",
        " - Definition: Failing to reject the null hypothesis when the alternative hypothesis (H_1) is actually true.\n",
        " - We conclude there isn't an effect when there actually is.\n",
        " - The propbability of a Type 2 error is beta.\n",
        " Examples:\n",
        " A drug does not work , but our test says it does not Type 2 error.\n"
      ],
      "metadata": {
        "id": "1US2qPkPjCRS"
      }
    },
    {
      "cell_type": "markdown",
      "source": [
        "#7.What is the diffrence between a one-tailed and a two-tailed test in hypothesis testing?\n",
        "- the diffrence between a one-tailed and a two tailed test in hypothesis testing lies in the direction of the effect we'r testing for:\n",
        "#1. One-tailed Test:\n",
        "- Test for an effect in one specific direction.\n",
        "- Used when we have a clear prediction (e.g., increase only or decreased only).\n",
        "##Types\n",
        "- Right-tailed test: H_1: mu>mu_0\n",
        "- Left-tailed test: H_1: mu<mu_0\n",
        "Example:\n",
        "- Testing if a new drug increase blood pressure:\n",
        "-- H_0: mu=120\n",
        "-- H_1:mu>120-Right-tailed\n",
        "#2.Two-Tailed Test:\n",
        "- Test for an effect in either direction (increase or decrease).\n",
        "- Used when we just want to detect any difference from the null.\n",
        "Examples:\n",
        "- Testing if a new teaching method has any effect on scores (better or worse):\n",
        "-- H_0: mu=75\n",
        "-- H_1:mu-=75- Two-tailed"
      ],
      "metadata": {
        "id": "1sNdmB9wzUj1"
      }
    },
    {
      "cell_type": "markdown",
      "source": [
        "#8.What is the Z-test , and when is it used in hypothesis testing?\n",
        "-The Z-test is a statistical test used in hypothesis testing to determine whether there is a sigficanct difference between a sample statistics and a population parameter (or between two sample statistics ), assuming the population is normally distributed and the population standard deviation is known.\n",
        "## When to use a Z-test:\n",
        "- 1. The population standard deviation (sigma) is known.\n",
        "- 2. The sample size is large (n>=30)-- or the population is known to be normally distributed.\n",
        "- 3. We are testing:\n",
        "-- A population mean\n",
        "-- A population proportion\n",
        "-- The difference between two means or proportions."
      ],
      "metadata": {
        "id": "SeyTxR5h2Q3w"
      }
    }
  ]
}